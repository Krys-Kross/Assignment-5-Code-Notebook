{
 "cells": [
  {
   "cell_type": "markdown",
   "metadata": {},
   "source": [
    "# Assingment 5: Extraction code from previous assignments"
   ]
  },
  {
   "cell_type": "markdown",
   "metadata": {},
   "source": [
    "## Libraries"
   ]
  },
  {
   "cell_type": "markdown",
   "metadata": {},
   "source": [
    "##### Harvesting Metadata"
   ]
  },
  {
   "cell_type": "code",
   "execution_count": null,
   "metadata": {},
   "outputs": [],
   "source": [
    "import requests\n",
    "import json"
   ]
  },
  {
   "cell_type": "code",
   "execution_count": null,
   "metadata": {},
   "outputs": [],
   "source": [
    "import csv\n",
    "import os\n",
    "from os.path import join\n",
    "\n",
    "loc_url = \"https://www.loc.gov/\"\n",
    "parameters = {\"fo\": \"json\"}\n",
    "\n",
    "item_metadata = \"item_metadata\"\n",
    "item_metadata_dir = os.path.join('..', 'assignment1_collection_data', item_metadata)\n",
    "\n",
    "if os.path.isdir(item_metadata_dir):\n",
    "    print(\"already exists\", item_metadata_dir)\n",
    "else:\n",
    "    os.mkdir(item_metadata_dir)\n",
    "    print(\"created\", item_metadata_dir)\n",
    "\n",
    "def harvest_metadata(ftu_csv, item_metadata_dir):\n",
    "    with open(ftu_csv, \"r\", encoding=\"utf-8\", newline=\"\") as f:\n",
    "        reader = csv.DictReader(f)\n",
    "        for row in reader:\n",
    "            item_id = row[\"link\"].split(\"/\")[-2]\n",
    "            item_metadata = os.path.join(item_metadata_dir, item_id + \".json\")\n",
    "            print(item_metadata)\n",
    "            if '?' in row[\"link\"]:\n",
    "                try:\n",
    "                    item_r = requests.get(loc_url + \"resource/\" + item_id, params=parameters)\n",
    "                    item_r.json()\n",
    "                except:\n",
    "                    print(\"error\", row[\"link\"])\n",
    "                    continue\n",
    "            item_r = requests.get(loc_url + \"resource/\" + item_id, params=parameters)\n",
    "            print(item_r.url, item_r.status_code)\n",
    "            if item_r.status_code == 200:\n",
    "                try:\n",
    "                    item_data = item_r.json()\n",
    "                    with open(item_metadata, \"w\", encoding=\"utf-8\") as f:\n",
    "                        json.dump(item_data, f, indent=2)\n",
    "                    print(\"wrote\", item_metadata)\n",
    "                except json.JSONDecodeError:\n",
    "                    print(\"JSON decode error for\", item_r.url)\n",
    "            else:\n",
    "                print(\"Failed\", item_r.url)\n",
    "\n",
    "ftu_csv = \"ftu-libraries-set-list.csv\"\n",
    "harvest_metadata(ftu_csv, item_metadata_dir)"
   ]
  },
  {
   "cell_type": "markdown",
   "metadata": {},
   "source": [
    "##### Code for Map"
   ]
  },
  {
   "cell_type": "code",
   "execution_count": null,
   "metadata": {},
   "outputs": [],
   "source": [
    "import json\n",
    "import csv\n",
    "import os\n",
    "from os.path import join\n",
    "\n",
    "item_metadata_dir = os.path.join('..', 'assignment1_collection_data', 'item_metadata')\n",
    "\n",
    "def transform_metadata_to_csv(item_metadata_dir, output_csv):\n",
    "    transformed_data = []\n",
    "\n",
    "    for file_name in os.listdir(item_metadata_dir):\n",
    "        if file_name.endswith('.json'):\n",
    "            file_path = os.path.join(item_metadata_dir, file_name)\n",
    "            with open(file_path, 'r', encoding='utf-8') as f:\n",
    "                item_data = json.load(f)\n",
    "\n",
    "                if 'item' in item_data:\n",
    "                    item = item_data['item']\n",
    "                    image_urls = item.get('image_url', [])\n",
    "                    image_url = image_urls[-1] if image_urls else ''\n",
    "                    thumbnail_url = image_urls[0] if image_urls else ''\n",
    "                    transformed_item = {\n",
    "                        'Item_type': 'Item',\n",
    "                        'Image URL': image_url,\n",
    "                        'Thumbnail URL': thumbnail_url,\n",
    "                        'Date Extracted': \"2024-12-08\",\n",
    "                        'Title': item.get('title', ''),\n",
    "                        'Creator': item.get('contributor_names', ''),\n",
    "                        'Date Created': item.get('date', ''),\n",
    "                        'Description': item.get('description', ''),\n",
    "                        'Identifier': item.get('digital_id', ''),\n",
    "                        'Format': ', '.join(item.get('mime_type', [])).replace(\"'\", \"\"),\n",
    "                        'Type': item.get('format', ''),\n",
    "                        'Subject': item.get('subjects', ''),\n",
    "                        'Item Source': item.get('repository', ''),\n",
    "                        'Rights': item.get('rights_information', ''),\n",
    "                    }\n",
    "                    transformed_data.append(transformed_item)\n",
    "\n",
    "    if transformed_data:\n",
    "        with open(output_csv, 'w', encoding='utf-8', newline='') as f:\n",
    "            writer = csv.DictWriter(f, fieldnames=transformed_data[0].keys())\n",
    "            writer.writeheader()\n",
    "            writer.writerows(transformed_data)\n",
    "        print(f\"CSV file created: {output_csv}\")\n",
    "    else:\n",
    "        print(\"No data to write to CSV.\")\n",
    "\n",
    "item_metadata_csv = 'item_metadata.csv'\n",
    "transform_metadata_to_csv(item_metadata_dir, item_metadata_csv)"
   ]
  },
  {
   "cell_type": "markdown",
   "metadata": {},
   "source": [
    "## Cats Collection"
   ]
  },
  {
   "cell_type": "markdown",
   "metadata": {},
   "source": [
    "#### Harvest Metadata"
   ]
  },
  {
   "cell_type": "code",
   "execution_count": null,
   "metadata": {},
   "outputs": [],
   "source": [
    "import requests\n",
    "import json\n",
    "import csv\n",
    "import os\n",
    "from os.path import join\n",
    "\n",
    "cats_url = \"https://www.loc.gov/\"\n",
    "parameters = {\"fo\": \"json\"}\n",
    "\n",
    "cat = \"cats_metadata\"\n",
    "cats_metadata_dir = os.path.join(\"cats_metadata\")\n",
    "\n",
    "if os.path.isdir(cats_metadata_dir):\n",
    "    print(\"directory exists\", cats_metadata_dir)\n",
    "else:\n",
    "    os.mkdir(cats_metadata_dir)\n",
    "    print(\"created directory\", cats_metadata_dir)\n",
    "\n",
    "def harvest_cats(cats_csv, cats_metadata_dir):\n",
    "    with open(cats_csv, \"r\", encoding=\"utf-8\", newline=\"\") as f:\n",
    "        reader = csv.DictReader(f)\n",
    "        for row in reader:\n",
    "            item_id = row[\"link\"].split(\"/\")[-2]\n",
    "            cats_metadata = os.path.join(cats_metadata_dir, item_id + \".json\")\n",
    "            print(cats_metadata)\n",
    "            if '?' in row[\"link\"]:\n",
    "                try:\n",
    "                    item_r = requests.get(cats_url + \"resource/\" + item_id, params=parameters)\n",
    "                except:\n",
    "                    print(\"error\", row[\"link\"])\n",
    "                    continue\n",
    "            item_r = requests.get(cats_url + \"resource/\" + item_id, params=parameters)\n",
    "            print(item_r.url, item_r.status_code)\n",
    "            if item_r.status_code == 200:\n",
    "                try:\n",
    "                    item_data = item_r.json()\n",
    "                    with open(cats_metadata, \"w\", encoding=\"utf-8\") as file:\n",
    "                        json.dump(item_data, file, indent=2)\n",
    "                except json.JSONDecodeError:\n",
    "                    print(\"error\", item_r.url)\n",
    "            else:\n",
    "                print(\"wrote\", cats_metadata)\n",
    "\n",
    "cats_csv = \"cats.csv\"\n",
    "harvest_cats(cats_csv, cats_metadata_dir)"
   ]
  },
  {
   "cell_type": "markdown",
   "metadata": {},
   "source": [
    "### Code for MAP "
   ]
  },
  {
   "cell_type": "code",
   "execution_count": null,
   "metadata": {},
   "outputs": [],
   "source": [
    "import json\n",
    "import csv\n",
    "import os\n",
    "from os.path import join\n",
    "\n",
    "cats_metadata = 'cats_metadata'\n",
    "cats_metadata_dir = os.path.join(\"cats_metadata\")\n",
    "\n",
    "def transform_cats_csv(cats_metadata_dir, cats_output_csv):\n",
    "    transform_cats = []\n",
    "\n",
    "    for file in os.listdir(cats_metadata_dir):\n",
    "        if file.endswith(\".json\"):\n",
    "            file_path = os.path.join(cats_metadata_dir, file)\n",
    "            with open(file_path, 'r', encoding='utf-8') as f:\n",
    "                item_data = json.load(f)\n",
    "\n",
    "                if 'item' in item_data:\n",
    "                    item = item_data['item']\n",
    "                    image_urls = item.get('image_url', [])\n",
    "                    image_url = image_urls[-1] if image_urls else ''\n",
    "                    transformed_cats = {\n",
    "                        'Item_type': 'Item',\n",
    "                        'Image URL': image_url,\n",
    "                        'Date Extracted': '2024-12-15',\n",
    "                        'Title': item.get('title', ''),\n",
    "                        'Creator': item.get('contributor_names', ''),\n",
    "                        'Date Created': item.get('date', ''),\n",
    "                        'Description': item.get('description', ''),\n",
    "                        'Identifier': item.get('digital_id', ''),\n",
    "                        'Format': item.get('mime_type', ''),\n",
    "                        'Type': item.get('format', ''),\n",
    "                        'Subject': item.get('subjects', ''),\n",
    "                        'Item Source': item.get('repository', ''),\n",
    "                        'Rights': item.get('rights_information', ''),\n",
    "                    }\n",
    "                    transform_cats.append(transformed_cats)\n",
    "\n",
    "    if transform_cats:\n",
    "        with open(cats_output_csv, 'w', encoding='utf-8', newline='') as f:\n",
    "            writer = csv.DictWriter(f, fieldnames=transform_cats[0].keys())\n",
    "            writer.writeheader()\n",
    "            writer.writerows(transform_cats)\n",
    "        print('wrote', cats_output_csv)\n",
    "    else:\n",
    "        print('no data to write')\n",
    "\n",
    "cats_met_csv = \"cats_metadata.csv\"\n",
    "transform_cats_csv(cats_metadata_dir, cats_met_csv)"
   ]
  }
 ],
 "metadata": {
  "kernelspec": {
   "display_name": "Python 3",
   "language": "python",
   "name": "python3"
  },
  "language_info": {
   "codemirror_mode": {
    "name": "ipython",
    "version": 3
   },
   "file_extension": ".py",
   "mimetype": "text/x-python",
   "name": "python",
   "nbconvert_exporter": "python",
   "pygments_lexer": "ipython3",
   "version": "3.12.4"
  }
 },
 "nbformat": 4,
 "nbformat_minor": 2
}
